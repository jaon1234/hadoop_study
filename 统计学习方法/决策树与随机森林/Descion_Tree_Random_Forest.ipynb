{
 "cells": [
  {
   "attachments": {},
   "cell_type": "markdown",
   "metadata": {},
   "source": [
    "# 决策树"
   ]
  },
  {
   "cell_type": "code",
   "execution_count": null,
   "metadata": {},
   "outputs": [],
   "source": [
    "from sklearn.datasets import load_iris\n",
    "# 加载数据集\n",
    "iris = load_iris()"
   ]
  },
  {
   "cell_type": "code",
   "execution_count": null,
   "metadata": {},
   "outputs": [],
   "source": [
    "iris.keys()"
   ]
  },
  {
   "cell_type": "code",
   "execution_count": null,
   "metadata": {},
   "outputs": [],
   "source": [
    "# 加载树模型\n",
    "from sklearn.tree import DecisionTreeClassifier"
   ]
  },
  {
   "cell_type": "code",
   "execution_count": null,
   "metadata": {},
   "outputs": [],
   "source": [
    "treeClf = DecisionTreeClassifier(max_depth=5)"
   ]
  },
  {
   "cell_type": "code",
   "execution_count": null,
   "metadata": {},
   "outputs": [],
   "source": [
    "x,y = iris.data[:,:2],iris.target"
   ]
  },
  {
   "cell_type": "code",
   "execution_count": null,
   "metadata": {},
   "outputs": [],
   "source": [
    "treeClf.fit(x,y)"
   ]
  },
  {
   "cell_type": "code",
   "execution_count": null,
   "metadata": {},
   "outputs": [],
   "source": [
    "from sklearn.tree import export_graphviz\n",
    "\n",
    "export_graphviz(\n",
    "    treeClf,\n",
    "    out_file=\"./result/iris_tree.dot\",\n",
    "    feature_names=iris[\"feature_names\"][:2],\n",
    "    class_names=iris[\"target_names\"],\n",
    "    rounded=True,\n",
    "    filled=True\n",
    ")"
   ]
  },
  {
   "cell_type": "code",
   "execution_count": null,
   "metadata": {},
   "outputs": [],
   "source": [
    "# 转换图像\n",
    "! dot -Tpng ./result/iris_tree.dot -o ./result/iris_tree.png"
   ]
  },
  {
   "cell_type": "code",
   "execution_count": null,
   "metadata": {},
   "outputs": [],
   "source": [
    "from IPython.display import Image\n",
    "Image(filename=\"./result/iris_tree.png\",width=800,height=800)"
   ]
  },
  {
   "cell_type": "code",
   "execution_count": null,
   "metadata": {},
   "outputs": [],
   "source": [
    "## 回归模型\n",
    "from sklearn.tree import DecisionTreeRegressor\n",
    "treeReg = DecisionTreeClassifier(max_depth=5)"
   ]
  },
  {
   "cell_type": "code",
   "execution_count": null,
   "metadata": {},
   "outputs": [],
   "source": [
    "import numpy as np"
   ]
  },
  {
   "attachments": {},
   "cell_type": "markdown",
   "metadata": {},
   "source": [
    "# 软投票和硬投票"
   ]
  },
  {
   "attachments": {},
   "cell_type": "markdown",
   "metadata": {},
   "source": [
    "## 概念\n",
    "- 软投票看的是概率，支持某个概率特别高的分类器的决策行为\n",
    "- 硬投票看的是结果，采取少数服从多数\n",
    "  "
   ]
  },
  {
   "cell_type": "code",
   "execution_count": null,
   "metadata": {},
   "outputs": [],
   "source": [
    "import matplotlib.pyplot as plt"
   ]
  },
  {
   "cell_type": "code",
   "execution_count": null,
   "metadata": {},
   "outputs": [],
   "source": [
    "# 创建数据集\n",
    "from sklearn.model_selection import train_test_split\n",
    "from sklearn.datasets import make_moons\n",
    "\n",
    "x,y = make_moons(n_samples=500,noise=0.3,random_state=52)\n",
    "x_train,x_test,y_train,y_test = train_test_split(x,y,random_state=42)"
   ]
  },
  {
   "cell_type": "code",
   "execution_count": null,
   "metadata": {},
   "outputs": [],
   "source": [
    "x.shape,y.shape"
   ]
  },
  {
   "cell_type": "code",
   "execution_count": null,
   "metadata": {},
   "outputs": [],
   "source": [
    "plt.plot(x[:,0][y==0],x[:,1][y==0],\"yo\",alpha=0.6)\n",
    "plt.plot(x[:,0][y==1],x[:,1][y==1],\"bs\",alpha=0.6)"
   ]
  },
  {
   "attachments": {},
   "cell_type": "markdown",
   "metadata": {},
   "source": [
    "## 硬投票实验"
   ]
  },
  {
   "cell_type": "code",
   "execution_count": null,
   "metadata": {},
   "outputs": [],
   "source": [
    "# 导入集成学习的包\n",
    "from sklearn.ensemble import RandomForestClassifier,VotingClassifier\n",
    "from sklearn.linear_model import LogisticRegression\n",
    "from sklearn.svm import SVC\n",
    "\n",
    "logClf = LogisticRegression(random_state=42)\n",
    "randClf = RandomForestClassifier(random_state=42)\n",
    "svmClf = SVC(random_state=42)\n",
    "votingClf = VotingClassifier(estimators=[(\"lr\",logClf),(\"rf\",randClf),(\"svm\",svmClf)],voting=\"hard\")"
   ]
  },
  {
   "cell_type": "code",
   "execution_count": null,
   "metadata": {},
   "outputs": [],
   "source": [
    "y_train.shape"
   ]
  },
  {
   "cell_type": "code",
   "execution_count": null,
   "metadata": {},
   "outputs": [],
   "source": [
    "votingClf.fit(x_train,y_train)"
   ]
  },
  {
   "cell_type": "code",
   "execution_count": null,
   "metadata": {},
   "outputs": [],
   "source": [
    "from sklearn.metrics import accuracy_score\n",
    "\n",
    "for es in (logClf,randClf,svmClf,votingClf):\n",
    "    es.fit(x_train,y_train)\n",
    "    y_pre = es.predict(x_test)\n",
    "    ac = accuracy_score(y_true=y_test,y_pred=y_pre)\n",
    "    print(es.__class__.__name__,\":\",ac)"
   ]
  },
  {
   "attachments": {},
   "cell_type": "markdown",
   "metadata": {},
   "source": [
    "## 软投票实验"
   ]
  },
  {
   "cell_type": "code",
   "execution_count": null,
   "metadata": {},
   "outputs": [],
   "source": [
    "# 导入集成学习的包\n",
    "from sklearn.ensemble import RandomForestClassifier,VotingClassifier\n",
    "from sklearn.linear_model import LogisticRegression\n",
    "from sklearn.svm import SVC\n",
    "\n",
    "logClf = LogisticRegression(random_state=42)\n",
    "randClf = RandomForestClassifier(random_state=42)\n",
    "svmClf = SVC(random_state=42)\n",
    "votingClf = VotingClassifier(estimators=[(\"lr\",logClf),(\"rf\",randClf),(\"svm\",svmClf)],voting=\"hard\")"
   ]
  },
  {
   "cell_type": "code",
   "execution_count": null,
   "metadata": {},
   "outputs": [],
   "source": [
    "from sklearn.metrics import accuracy_score\n",
    "\n",
    "for es in (logClf,randClf,svmClf,votingClf):\n",
    "    es.fit(x_train,y_train)\n",
    "    y_pre = es.predict(x_test)\n",
    "    ac = accuracy_score(y_true=y_test,y_pred=y_pre)\n",
    "    print(es.__class__.__name__,\":\",ac)"
   ]
  },
  {
   "attachments": {},
   "cell_type": "markdown",
   "metadata": {},
   "source": [
    "# bagging"
   ]
  },
  {
   "attachments": {},
   "cell_type": "markdown",
   "metadata": {},
   "source": [
    "## 训练策略\n",
    "- 首先对训练数据进行多次采样，保证每次得到的采样数据都是不同的\n",
    "- 分别训练多个模型，例如：树模型\n",
    "- 预测试需要得到所有模型的结果在进行集成\n",
    "- bag在预测的时候使用的软投票机制，也就是用概率值的大小去选择投标结果"
   ]
  },
  {
   "cell_type": "code",
   "execution_count": null,
   "metadata": {},
   "outputs": [],
   "source": [
    "from sklearn.ensemble import BaggingClassifier\n",
    "from sklearn.tree import DecisionTreeClassifier\n",
    "\n",
    "bagCls = BaggingClassifier(\n",
    "    estimator=DecisionTreeClassifier(),\n",
    "    n_estimators=500,\n",
    "    bootstrap=True,\n",
    "    max_samples=100,\n",
    "    random_state=42,\n",
    "    n_jobs=-1\n",
    ")\n",
    "bagCls.fit(x_train,y_train)"
   ]
  },
  {
   "cell_type": "code",
   "execution_count": null,
   "metadata": {},
   "outputs": [],
   "source": [
    "accuracy_score(y_test,bagCls.predict(x_test))"
   ]
  },
  {
   "cell_type": "code",
   "execution_count": null,
   "metadata": {},
   "outputs": [],
   "source": [
    "treeClf = DecisionTreeClassifier(random_state=42)\n",
    "treeClf.fit(x_train,y_train)\n",
    "accuracy_score(y_test,treeClf.predict(x_test))"
   ]
  },
  {
   "cell_type": "code",
   "execution_count": null,
   "metadata": {},
   "outputs": [],
   "source": [
    "# 绘制决策边界--目前只能用到二维\n",
    "from matplotlib.colors import ListedColormap\n",
    "\n",
    "def plot_decision_boundary(clf,x,y,axes=[-1.5,2.5,-1,1.5],alpha = 0.8, contour = True):\n",
    "    # 将坐标轴进行切分\n",
    "    x1s = np.linspace(axes[0],axes[1],100)\n",
    "    x2s = np.linspace(axes[2],axes[3],100)\n",
    "    # 按照切分的结果，在坐标轴画线，会形成单元格，下面分别获取单元格的左下角坐标\n",
    "    # [[1,2],[3,4]] -> x1 = [[1,2],[1,2]],x2 = [[3,3],[4,4]]\n",
    "    x1,x2 = np.meshgrid(x1s,x2s)\n",
    "    # 下面再将划分的坐标分别拉平，组成一系列的点，做为样本点\n",
    "    # 一共的样本点是 100*100个\n",
    "    x_new = np.c_[x1.ravel(),x2.ravel()]\n",
    "    # 对样本点进行分类\n",
    "    y_pred = clf.predict(x_new).reshape(x1.shape)\n",
    "    # 根据预测结果，涂颜色\n",
    "    # 根据等值信息填充，若一个区域的值相等，则填充同一种颜色\n",
    "    cusCMap = ListedColormap([\"#1f77b4\",\"#ff7f0e\",\"#2ca02c\"]) # 色谱\n",
    "    plt.contourf(x1,x2,y_pred,cmap = cusCMap,alpha = 0.3)\n",
    "    if contour: # 是否绘制等值线\n",
    "        # 下面绘制等值线，类似于山峰的等高线\n",
    "        CS = plt.contour(x1,x2,y_pred,cmap = cusCMap,alpha=alpha) \n",
    "        plt.clabel(CS, inline=1, fontsize=10)\n",
    "    # 再放上真是的结果\n",
    "    plt.plot(x[:,0][y==0],x[:,1][y==0],\"yo\",alpha=0.8)\n",
    "    plt.plot(x[:,0][y==1],x[:,1][y==1],\"bs\",alpha=0.8)\n",
    "    # 坐标范围\n",
    "    plt.axis(axes)\n",
    "    plt.xlabel(\"x1\")\n",
    "    plt.xlabel(\"x2\")"
   ]
  },
  {
   "cell_type": "code",
   "execution_count": null,
   "metadata": {},
   "outputs": [],
   "source": [
    "plt.figure(figsize=(12,5))\n",
    "# 左边的子图\n",
    "plt.subplot(121)\n",
    "#决策树\n",
    "plot_decision_boundary(treeClf,x,y,alpha=0.3)\n",
    "plt.title(\"decision Tree\")\n",
    "# 右边的子图\n",
    "plt.subplot(122)\n",
    "#决策树\n",
    "plot_decision_boundary(bagCls,x,y,alpha=0.3)\n",
    "plt.title(\"decision Tree with bagging\")"
   ]
  },
  {
   "attachments": {},
   "cell_type": "markdown",
   "metadata": {},
   "source": [
    "## OOB策略->out of bag"
   ]
  },
  {
   "attachments": {},
   "cell_type": "markdown",
   "metadata": {},
   "source": [
    "1.  一种将随机策略下未选中的样本，作为验证集的策略"
   ]
  },
  {
   "cell_type": "code",
   "execution_count": null,
   "metadata": {},
   "outputs": [],
   "source": [
    "from sklearn.ensemble import BaggingClassifier\n",
    "from sklearn.tree import DecisionTreeClassifier\n",
    "\n",
    "bagClf = BaggingClassifier(\n",
    "    estimator=DecisionTreeClassifier(),\n",
    "    n_estimators=500,\n",
    "    bootstrap=True,\n",
    "    max_samples=100,\n",
    "    random_state=42,\n",
    "    n_jobs=-1,\n",
    "    oob_score=True\n",
    ")\n",
    "bagClf.fit(x_train,y_train)\n",
    "bagClf.oob_score_ # 查看验证集的结果"
   ]
  },
  {
   "cell_type": "code",
   "execution_count": null,
   "metadata": {},
   "outputs": [],
   "source": [
    "y_pred = bagCls.predict(x_test)\n",
    "accuracy_score(y_test,y_pred)"
   ]
  },
  {
   "attachments": {},
   "cell_type": "markdown",
   "metadata": {},
   "source": [
    "## 随机森林"
   ]
  },
  {
   "cell_type": "code",
   "execution_count": null,
   "metadata": {},
   "outputs": [],
   "source": [
    "from sklearn.ensemble import RandomForestClassifier\n",
    "from sklearn.datasets import load_iris\n",
    "\n",
    "iris = load_iris()"
   ]
  },
  {
   "attachments": {},
   "cell_type": "markdown",
   "metadata": {},
   "source": [
    "### 特征重要性"
   ]
  },
  {
   "cell_type": "code",
   "execution_count": null,
   "metadata": {},
   "outputs": [],
   "source": [
    "rfClf = RandomForestClassifier(\n",
    "    n_estimators=500,\n",
    "    n_jobs=-1\n",
    ")\n",
    "rfClf.fit(iris[\"data\"],iris[\"target\"])\n",
    "\n",
    "for name,score in zip(iris[\"feature_names\"],rfClf.feature_importances_):\n",
    "    print(name+\":\\t\",score)"
   ]
  },
  {
   "cell_type": "code",
   "execution_count": null,
   "metadata": {},
   "outputs": [],
   "source": [
    "from sklearn.datasets import fetch_openml\n",
    "\n",
    "minist = fetch_openml(\"mnist_784\",parser=\"auto\")\n",
    "rfClf = RandomForestClassifier(\n",
    "    n_estimators=500,\n",
    "    n_jobs=-1\n",
    ")\n",
    "rfClf.fit(minist[\"data\"],minist[\"target\"])"
   ]
  },
  {
   "cell_type": "code",
   "execution_count": null,
   "metadata": {},
   "outputs": [],
   "source": [
    "rfClf.feature_importances_.shape"
   ]
  },
  {
   "cell_type": "code",
   "execution_count": null,
   "metadata": {},
   "outputs": [],
   "source": [
    "import numpy as np\n",
    "import matplotlib.pyplot as plt\n",
    "import matplotlib\n",
    "def plot_digit(data:np.ndarray):\n",
    "    image = data.reshape(28,28)\n",
    "    plt.imshow(image,cmap=matplotlib.cm.hot)\n",
    "    plt.axis(\"off\")"
   ]
  },
  {
   "cell_type": "code",
   "execution_count": null,
   "metadata": {},
   "outputs": [],
   "source": [
    "import matplotlib.ticker as ticker\n",
    "plot_digit(rfClf.feature_importances_)\n",
    "char  = plt.colorbar()\n",
    "tick_locator = ticker.MaxNLocator(nbins=2)  # colorbar上的刻度值个数\n",
    "char.locator = tick_locator\n",
    "char.set_ticks([rfClf.feature_importances_.min(), rfClf.feature_importances_.max()]) # 设置刻度值\n",
    "char.update_ticks()\n",
    "char.ax.set_yticklabels(['not important','very important'])"
   ]
  },
  {
   "attachments": {},
   "cell_type": "markdown",
   "metadata": {},
   "source": [
    "# boosting"
   ]
  },
  {
   "attachments": {},
   "cell_type": "markdown",
   "metadata": {},
   "source": [
    "- 基本思想：加权一些列分类器；（比如，通过准确率作为权重）"
   ]
  },
  {
   "cell_type": "code",
   "execution_count": null,
   "metadata": {},
   "outputs": [],
   "source": [
    "from sklearn.svm import SVC\n",
    "\n",
    "m = len(x_train)\n",
    "\n",
    "plt.figure(figsize=(12,4))\n",
    "\n",
    "for subplot,learning_rate in ((121,1),(122,0.5)):\n",
    "    sample_weights = np.ones(m)\n",
    "\n",
    "    plt.subplot(subplot)\n",
    "    # 构造五个分类器，逐步增加分错的数据的权重\n",
    "    for i in range(5):\n",
    "        svmClf = SVC(kernel=\"rbf\",C=0.05,random_state=42)\n",
    "        svmClf.fit(x_train,y_train,sample_weight=sample_weights)\n",
    "        y_pred = svmClf.predict(x_train)\n",
    "        sample_weights[y_pred != y_train] *= (1+learning_rate)\n",
    "        plot_decision_boundary(svmClf,x,y,alpha=0.3)\n",
    "    plt.title(\"learning_rate:\"+str(learning_rate))\n"
   ]
  },
  {
   "attachments": {},
   "cell_type": "markdown",
   "metadata": {},
   "source": [
    "## adaboost"
   ]
  },
  {
   "cell_type": "code",
   "execution_count": null,
   "metadata": {},
   "outputs": [],
   "source": [
    "from sklearn.ensemble import AdaBoostClassifier\n",
    "adaBoostClf = AdaBoostClassifier(\n",
    "    DecisionTreeClassifier(max_depth=3),\n",
    "    n_estimators = 200,\n",
    "    learning_rate=0.5,\n",
    "    random_state=42\n",
    ")"
   ]
  },
  {
   "cell_type": "code",
   "execution_count": null,
   "metadata": {},
   "outputs": [],
   "source": [
    "adaBoostClf.fit(x_train,y_train)\n",
    "plot_decision_boundary(adaBoostClf,x,y)"
   ]
  },
  {
   "attachments": {},
   "cell_type": "markdown",
   "metadata": {},
   "source": [
    "## GBT"
   ]
  },
  {
   "attachments": {},
   "cell_type": "markdown",
   "metadata": {},
   "source": [
    " GBT主要是针对上一轮预测的残差做优化"
   ]
  },
  {
   "cell_type": "code",
   "execution_count": null,
   "metadata": {},
   "outputs": [],
   "source": [
    "def plot_predictions(regressors, X, y, axes, label=None, style=\"r-\", data_style=\"b.\", data_label=None):\n",
    "    x1 = np.linspace(axes[0], axes[1], 500)\n",
    "    y_pred = sum(regressor.predict(x1.reshape(-1, 1)) for regressor in regressors)\n",
    "    plt.plot(X[:, 0], y, data_style, label=data_label)\n",
    "    plt.plot(x1, y_pred, style, linewidth=2, label=label)\n",
    "    if label or data_label:\n",
    "        plt.legend(loc=\"upper center\", fontsize=16)\n",
    "    plt.axis(axes)"
   ]
  },
  {
   "cell_type": "code",
   "execution_count": null,
   "metadata": {},
   "outputs": [],
   "source": [
    "np.random.seed(42)\n",
    "x = np.random.rand(100,1) - 0.5\n",
    "y = 3*x[:,0]**2 + 0.05*np.random.randn(100)"
   ]
  },
  {
   "cell_type": "code",
   "execution_count": null,
   "metadata": {},
   "outputs": [],
   "source": [
    "from sklearn.tree import DecisionTreeRegressor\n",
    "treeReg1 = DecisionTreeRegressor()\n",
    "treeReg1.fit(x,y)"
   ]
  },
  {
   "cell_type": "code",
   "execution_count": null,
   "metadata": {},
   "outputs": [],
   "source": [
    "# 第二次\n",
    "y2 = y - treeReg1.predict(x)\n",
    "treeReg2 = DecisionTreeRegressor()\n",
    "treeReg2.fit(x,y2)"
   ]
  },
  {
   "cell_type": "code",
   "execution_count": null,
   "metadata": {},
   "outputs": [],
   "source": [
    "# 第二次\n",
    "y3 = y2-  treeReg2.predict(x)\n",
    "treeReg3 = DecisionTreeRegressor()\n",
    "treeReg3.fit(x,y3)"
   ]
  },
  {
   "cell_type": "code",
   "execution_count": null,
   "metadata": {},
   "outputs": [],
   "source": [
    "x_new = np.array([[0.8]])\n",
    "y_pred = sum(tree.predict(x_new) for tree in (treeReg1,treeReg2,treeReg3))"
   ]
  },
  {
   "cell_type": "code",
   "execution_count": null,
   "metadata": {},
   "outputs": [],
   "source": [
    "x_new"
   ]
  },
  {
   "cell_type": "code",
   "execution_count": null,
   "metadata": {},
   "outputs": [],
   "source": [
    "y_pred,3*x_new[:,0]**2 "
   ]
  },
  {
   "cell_type": "code",
   "execution_count": null,
   "metadata": {},
   "outputs": [],
   "source": [
    "# sklearn gbt\n",
    "from sklearn.ensemble import GradientBoostingRegressor\n",
    "gbt = GradientBoostingRegressor(\n",
    "    max_depth=2,\n",
    "    n_estimators=3,\n",
    "    learning_rate=1.0, # 是每棵树的占比，不是梯度下降的学习率\n",
    "    random_state=42\n",
    ")\n",
    "gbt.fit(x,y)"
   ]
  },
  {
   "cell_type": "code",
   "execution_count": null,
   "metadata": {},
   "outputs": [],
   "source": [
    "# sklearn gbt\n",
    "from sklearn.ensemble import GradientBoostingRegressor\n",
    "gbt_slow_2 = GradientBoostingRegressor(\n",
    "    max_depth=2,\n",
    "    n_estimators=3,\n",
    "    learning_rate=0.1, # 是每棵树的占比，不是梯度下降的学习率\n",
    "    random_state=42\n",
    ")\n",
    "gbt_slow_2.fit(x,y)"
   ]
  },
  {
   "cell_type": "code",
   "execution_count": null,
   "metadata": {},
   "outputs": [],
   "source": [
    "# sklearn gbt\n",
    "from sklearn.ensemble import GradientBoostingRegressor\n",
    "gbt_slow_3 = GradientBoostingRegressor(\n",
    "    max_depth=2,\n",
    "    n_estimators=200,\n",
    "    learning_rate=0.1, # 是每棵树的占比，不是梯度下降的学习率\n",
    "    random_state=42\n",
    ")\n",
    "gbt_slow_3.fit(x,y)"
   ]
  },
  {
   "cell_type": "code",
   "execution_count": null,
   "metadata": {},
   "outputs": [],
   "source": [
    "plt.figure(figsize=(11,4))\n",
    "plt.subplot(121)\n",
    "plot_predictions([gbt],x,y,axes=[-0.5,0.5,-0.1,0.8],label=\"Ensembel predictions\")\n",
    "plt.title(\"learning rate:{},n_estimators:{}\".format(gbt.learning_rate,gbt.n_estimators_))\n",
    "\n",
    "plt.subplot(122)\n",
    "plot_predictions([gbt_slow_2],x,y,axes=[-0.5,0.5,-0.1,0.8],label=\"Ensembel predictions\")\n",
    "plt.title(\"learning rate:{},n_estimators:{}\".format(gbt_slow_2.learning_rate,gbt_slow_2.n_estimators_))"
   ]
  },
  {
   "cell_type": "code",
   "execution_count": null,
   "metadata": {},
   "outputs": [],
   "source": [
    "plt.figure(figsize=(11,4))\n",
    "plt.subplot(121)\n",
    "plot_predictions([gbt_slow_2],x,y,axes=[-0.5,0.5,-0.1,0.8],label=\"Ensembel predictions\")\n",
    "plt.title(\"learning rate:{},n_estimators:{}\".format(gbt_slow_2.learning_rate,gbt_slow_2.n_estimators_))\n",
    "\n",
    "plt.subplot(122)\n",
    "plot_predictions([gbt_slow_3],x,y,axes=[-0.5,0.5,-0.1,0.8],label=\"Ensembel predictions\")\n",
    "plt.title(\"learning rate:{},n_estimators:{}\".format(gbt_slow_3.learning_rate,gbt_slow_3.n_estimators_))"
   ]
  },
  {
   "attachments": {},
   "cell_type": "markdown",
   "metadata": {},
   "source": [
    "## 提前停止策略"
   ]
  },
  {
   "cell_type": "code",
   "execution_count": 101,
   "metadata": {},
   "outputs": [
    {
     "data": {
      "text/html": [
       "<style>#sk-container-id-18 {color: black;background-color: white;}#sk-container-id-18 pre{padding: 0;}#sk-container-id-18 div.sk-toggleable {background-color: white;}#sk-container-id-18 label.sk-toggleable__label {cursor: pointer;display: block;width: 100%;margin-bottom: 0;padding: 0.3em;box-sizing: border-box;text-align: center;}#sk-container-id-18 label.sk-toggleable__label-arrow:before {content: \"▸\";float: left;margin-right: 0.25em;color: #696969;}#sk-container-id-18 label.sk-toggleable__label-arrow:hover:before {color: black;}#sk-container-id-18 div.sk-estimator:hover label.sk-toggleable__label-arrow:before {color: black;}#sk-container-id-18 div.sk-toggleable__content {max-height: 0;max-width: 0;overflow: hidden;text-align: left;background-color: #f0f8ff;}#sk-container-id-18 div.sk-toggleable__content pre {margin: 0.2em;color: black;border-radius: 0.25em;background-color: #f0f8ff;}#sk-container-id-18 input.sk-toggleable__control:checked~div.sk-toggleable__content {max-height: 200px;max-width: 100%;overflow: auto;}#sk-container-id-18 input.sk-toggleable__control:checked~label.sk-toggleable__label-arrow:before {content: \"▾\";}#sk-container-id-18 div.sk-estimator input.sk-toggleable__control:checked~label.sk-toggleable__label {background-color: #d4ebff;}#sk-container-id-18 div.sk-label input.sk-toggleable__control:checked~label.sk-toggleable__label {background-color: #d4ebff;}#sk-container-id-18 input.sk-hidden--visually {border: 0;clip: rect(1px 1px 1px 1px);clip: rect(1px, 1px, 1px, 1px);height: 1px;margin: -1px;overflow: hidden;padding: 0;position: absolute;width: 1px;}#sk-container-id-18 div.sk-estimator {font-family: monospace;background-color: #f0f8ff;border: 1px dotted black;border-radius: 0.25em;box-sizing: border-box;margin-bottom: 0.5em;}#sk-container-id-18 div.sk-estimator:hover {background-color: #d4ebff;}#sk-container-id-18 div.sk-parallel-item::after {content: \"\";width: 100%;border-bottom: 1px solid gray;flex-grow: 1;}#sk-container-id-18 div.sk-label:hover label.sk-toggleable__label {background-color: #d4ebff;}#sk-container-id-18 div.sk-serial::before {content: \"\";position: absolute;border-left: 1px solid gray;box-sizing: border-box;top: 0;bottom: 0;left: 50%;z-index: 0;}#sk-container-id-18 div.sk-serial {display: flex;flex-direction: column;align-items: center;background-color: white;padding-right: 0.2em;padding-left: 0.2em;position: relative;}#sk-container-id-18 div.sk-item {position: relative;z-index: 1;}#sk-container-id-18 div.sk-parallel {display: flex;align-items: stretch;justify-content: center;background-color: white;position: relative;}#sk-container-id-18 div.sk-item::before, #sk-container-id-18 div.sk-parallel-item::before {content: \"\";position: absolute;border-left: 1px solid gray;box-sizing: border-box;top: 0;bottom: 0;left: 50%;z-index: -1;}#sk-container-id-18 div.sk-parallel-item {display: flex;flex-direction: column;z-index: 1;position: relative;background-color: white;}#sk-container-id-18 div.sk-parallel-item:first-child::after {align-self: flex-end;width: 50%;}#sk-container-id-18 div.sk-parallel-item:last-child::after {align-self: flex-start;width: 50%;}#sk-container-id-18 div.sk-parallel-item:only-child::after {width: 0;}#sk-container-id-18 div.sk-dashed-wrapped {border: 1px dashed gray;margin: 0 0.4em 0.5em 0.4em;box-sizing: border-box;padding-bottom: 0.4em;background-color: white;}#sk-container-id-18 div.sk-label label {font-family: monospace;font-weight: bold;display: inline-block;line-height: 1.2em;}#sk-container-id-18 div.sk-label-container {text-align: center;}#sk-container-id-18 div.sk-container {/* jupyter's `normalize.less` sets `[hidden] { display: none; }` but bootstrap.min.css set `[hidden] { display: none !important; }` so we also need the `!important` here to be able to override the default hidden behavior on the sphinx rendered scikit-learn.org. See: https://github.com/scikit-learn/scikit-learn/issues/21755 */display: inline-block !important;position: relative;}#sk-container-id-18 div.sk-text-repr-fallback {display: none;}</style><div id=\"sk-container-id-18\" class=\"sk-top-container\"><div class=\"sk-text-repr-fallback\"><pre>GradientBoostingRegressor(max_depth=2, n_estimators=120, random_state=42)</pre><b>In a Jupyter environment, please rerun this cell to show the HTML representation or trust the notebook. <br />On GitHub, the HTML representation is unable to render, please try loading this page with nbviewer.org.</b></div><div class=\"sk-container\" hidden><div class=\"sk-item\"><div class=\"sk-estimator sk-toggleable\"><input class=\"sk-toggleable__control sk-hidden--visually\" id=\"sk-estimator-id-23\" type=\"checkbox\" checked><label for=\"sk-estimator-id-23\" class=\"sk-toggleable__label sk-toggleable__label-arrow\">GradientBoostingRegressor</label><div class=\"sk-toggleable__content\"><pre>GradientBoostingRegressor(max_depth=2, n_estimators=120, random_state=42)</pre></div></div></div></div></div>"
      ],
      "text/plain": [
       "GradientBoostingRegressor(max_depth=2, n_estimators=120, random_state=42)"
      ]
     },
     "execution_count": 101,
     "metadata": {},
     "output_type": "execute_result"
    }
   ],
   "source": [
    "x_train,x_test,y_train,y_test = train_test_split(x,y,random_state=49)\n",
    "# sklearn gbt\n",
    "gbrt = GradientBoostingRegressor(\n",
    "    max_depth=2,\n",
    "    n_estimators=120,\n",
    "    random_state=42\n",
    ")\n",
    "gbrt.fit(x_train,y_train)"
   ]
  },
  {
   "cell_type": "code",
   "execution_count": 102,
   "metadata": {},
   "outputs": [
    {
     "name": "stdout",
     "output_type": "stream",
     "text": [
      "55 0.002942592127188862\n"
     ]
    }
   ],
   "source": [
    "from sklearn.metrics import mean_squared_error\n",
    "errors = [mean_squared_error(y_test,y_pred) for y_pred in gbrt.staged_predict(x_test)]\n",
    "best_n_est = np.argmin(errors)\n",
    "print(best_n_est,errors[116])"
   ]
  },
  {
   "cell_type": "code",
   "execution_count": 103,
   "metadata": {},
   "outputs": [
    {
     "data": {
      "text/plain": [
       "0.002942592127188862"
      ]
     },
     "execution_count": 103,
     "metadata": {},
     "output_type": "execute_result"
    }
   ],
   "source": [
    "# sklearn gbt\n",
    "gbrt_best = GradientBoostingRegressor(\n",
    "    max_depth=2,\n",
    "    n_estimators=117,\n",
    "    random_state=42\n",
    ")\n",
    "gbrt_best.fit(x_train,y_train)\n",
    "mean_squared_error(y_test,gbrt_best.predict(x_test))"
   ]
  },
  {
   "cell_type": "code",
   "execution_count": 104,
   "metadata": {},
   "outputs": [
    {
     "data": {
      "text/plain": [
       "0.002712853325235463"
      ]
     },
     "execution_count": 104,
     "metadata": {},
     "output_type": "execute_result"
    }
   ],
   "source": [
    "min_error = np.min(errors)\n",
    "min_error"
   ]
  },
  {
   "cell_type": "code",
   "execution_count": 110,
   "metadata": {},
   "outputs": [
    {
     "data": {
      "text/plain": [
       "Text(0.5, 1.0, 'Best models55')"
      ]
     },
     "execution_count": 110,
     "metadata": {},
     "output_type": "execute_result"
    },
    {
     "data": {
      "image/png": "[encoded data removed]",
      "text/plain": [
       "<Figure size 1100x400 with 2 Axes>"
      ]
     },
     "metadata": {},
     "output_type": "display_data"
    }
   ],
   "source": [
    "plt.figure(figsize=(11,4))\n",
    "plt.subplot(121)\n",
    "plt.plot(errors,\"b.--\")\n",
    "plt.plot([best_n_est,best_n_est],[0,min_error],\"k--\")\n",
    "plt.plot([0,120],[min_error,min_error],\"k--\")\n",
    "plt.axis([0,120,0,0.01])\n",
    "plt.title(\"val error\")\n",
    "\n",
    "plt.subplot(122)\n",
    "plot_predictions([gbrt_best],x,y,axes=[-0.5,0.5,-0.1,0.8])\n",
    "plt.title(\"Best models\"+str(best_n_est))\n",
    "# plt.subplot(122)\n",
    "# plot_predictions([gbt_slow_3],x,y,axes=[-0.5,0.5,-0.1,0.8],label=\"Ensembel predictions\")\n",
    "# plt.title(\"learning rate:{},n_estimators:{}\".format(gbt_slow_3.learning_rate,gbt_slow_3.n_estimators_))"
   ]
  },
  {
   "cell_type": "code",
   "execution_count": 112,
   "metadata": {},
   "outputs": [],
   "source": [
    "gbrt = GradientBoostingRegressor(max_depth = 2,\n",
    "                             random_state = 42,\n",
    "                                 warm_start =True\n",
    ")\n",
    "error_going_up = 0\n",
    "min_val_error = float('inf')\n",
    "\n",
    "for n_estimators in range(1,120):\n",
    "    gbrt.n_estimators = n_estimators\n",
    "    gbrt.fit(x_train,y_train)\n",
    "    y_pred = gbrt.predict(x_test)\n",
    "    val_error = mean_squared_error(y_test,y_pred)\n",
    "    if val_error < min_val_error:\n",
    "        min_val_error = val_error\n",
    "        error_going_up = 0\n",
    "    else:\n",
    "        error_going_up +=1\n",
    "        if error_going_up == 5:\n",
    "            break\n",
    "        "
   ]
  },
  {
   "cell_type": "code",
   "execution_count": 113,
   "metadata": {},
   "outputs": [
    {
     "name": "stdout",
     "output_type": "stream",
     "text": [
      "61\n"
     ]
    }
   ],
   "source": [
    "print (gbrt.n_estimators)"
   ]
  }
 ],
 "metadata": {
  "kernelspec": {
   "display_name": "database",
   "language": "python",
   "name": "python3"
  },
  "language_info": {
   "codemirror_mode": {
    "name": "ipython",
    "version": 3
   },
   "file_extension": ".py",
   "mimetype": "text/x-python",
   "name": "python",
   "nbconvert_exporter": "python",
   "pygments_lexer": "ipython3",
   "version": "3.8.10"
  },
  "orig_nbformat": 4
 },
 "nbformat": 4,
 "nbformat_minor": 2
}
