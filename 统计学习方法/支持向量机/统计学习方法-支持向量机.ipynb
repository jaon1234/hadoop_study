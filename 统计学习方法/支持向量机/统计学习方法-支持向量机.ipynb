{
 "cells": [
  {
   "attachments": {},
   "cell_type": "markdown",
   "metadata": {},
   "source": [
    "# 硬间隔支持向量机"
   ]
  },
  {
   "attachments": {},
   "cell_type": "markdown",
   "metadata": {},
   "source": [
    "- 硬间隔支持向量机中，假设数据点是线性可分的；\n",
    "- 模型的思想是，最大化最小几何间隔，从而实现对数据点的分割；（支持向量机中，开始是为了处理二分类问题，便于模型的计算，其label为1和-1）\n",
    "- 1. 首先，列出最大化最小几何间隔的表达式及约束条件；\n",
    "- 2. 考虑到函数间隔和几何间隔的关系，将表达式和约束条件改写为函数间隔的形式；\n",
    "- 3. 因为函数间隔中的函数，若是系数与截距项均成比例的增加，对超平面没有影响，因此，为了获得w和b的唯一值，在表达式中将其固定为1；同时，将其转化为凸二次规划问题；\n",
    "- 4. 使用拉格朗日乘子法，求得其对偶问题 max min --\n",
    "- 5. 又因为，在kkt条件下（知道就行），使得当前的问题与 min max -- 是一个强对偶问题，所以二者同解；\n",
    "- 6. 在 min max中，因为w和b无约束，先对max部分使用偏导数求其极值\n",
    "- 7. 在6的基础上，对min部分使用偏导数求的lambada的极值。"
   ]
  },
  {
   "cell_type": "code",
   "execution_count": null,
   "metadata": {},
   "outputs": [],
   "source": []
  }
 ],
 "metadata": {
  "kernelspec": {
   "display_name": "database",
   "language": "python",
   "name": "python3"
  },
  "language_info": {
   "name": "python",
   "version": "3.8.10"
  },
  "orig_nbformat": 4
 },
 "nbformat": 4,
 "nbformat_minor": 2
}
