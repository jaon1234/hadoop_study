{
 "cells": [
  {
   "cell_type": "code",
   "execution_count": 1,
   "metadata": {},
   "outputs": [],
   "source": [
    "# 导入pyspark\n",
    "from pyspark.sql import SparkSession\n",
    "\n",
    "# 连接到spark\n",
    "spark = SparkSession.builder \\\n",
    "        .appName(\"pysparkML\") \\\n",
    "        .master(\"local[4]\") \\\n",
    "        .getOrCreate()"
   ]
  },
  {
   "cell_type": "code",
   "execution_count": 2,
   "metadata": {},
   "outputs": [
    {
     "name": "stdout",
     "output_type": "stream",
     "text": [
      "root\n",
      " |-- features: vector (nullable = true)\n",
      " |-- label: string (nullable = true)\n",
      "\n",
      "+-----------------+-----------+\n",
      "|         features|      label|\n",
      "+-----------------+-----------+\n",
      "|[5.1,3.5,1.4,0.2]|Iris-setosa|\n",
      "|[4.9,3.0,1.4,0.2]|Iris-setosa|\n",
      "|[4.7,3.2,1.3,0.2]|Iris-setosa|\n",
      "|[4.6,3.1,1.5,0.2]|Iris-setosa|\n",
      "|[5.0,3.6,1.4,0.2]|Iris-setosa|\n",
      "+-----------------+-----------+\n",
      "only showing top 5 rows\n",
      "\n"
     ]
    }
   ],
   "source": [
    "# 从文件系统中读取数据，并将其转化为DataFrame\n",
    "sc = spark.sparkContext\n",
    "rdd = sc.textFile(\"./resources/iris.txt\")\n",
    "# 下面基于spark提供的row，构造df的行\n",
    "from pyspark.sql import Row\n",
    "from pyspark.ml.linalg import Vectors # 将特征转换为向量\n",
    "iris = rdd.map(lambda line:line.strip().split(\",\")).map(lambda line:Row(features = Vectors.dense(float(line[0]),\n",
    "                                                                                                 float(line[1]),\n",
    "                                                                                                 float(line[2]),\n",
    "                                                                                                 float(line[3])\n",
    "                                                                                                        ),\n",
    "                                                                         label = line[4]))\n",
    "df = spark.createDataFrame(iris)\n",
    "df.printSchema()\n",
    "df.show(5)"
   ]
  },
  {
   "cell_type": "code",
   "execution_count": 3,
   "metadata": {},
   "outputs": [],
   "source": [
    "# 下面开始进行标签的转化，将label进行编码\n",
    "from  pyspark.ml.feature import StringIndexer,IndexToString\n",
    "# 创建标签编码器\n",
    "labelIndexer = StringIndexer(inputCol=\"label\",outputCol=\"indexed\",stringOrderType=\"frequencyDesc\")\n",
    "labelIndexerModel = labelIndexer.fit(df)\n",
    "# 创建标签的解码器\n",
    "labelIndexToString = IndexToString(inputCol=\"prediction\",outputCol=\"predLabel\",labels=labelIndexerModel.labels)"
   ]
  },
  {
   "cell_type": "code",
   "execution_count": 4,
   "metadata": {},
   "outputs": [],
   "source": [
    "# 下面对特征进行编码索引\n",
    "from pyspark.ml.feature import VectorIndexer\n",
    "# 创建编码器\n",
    "featureIndexer = VectorIndexer(inputCol=\"features\",outputCol=\"indexedFeatures\")\n",
    "featureIndexerModel = featureIndexer.fit(df)"
   ]
  },
  {
   "cell_type": "code",
   "execution_count": 5,
   "metadata": {},
   "outputs": [],
   "source": [
    "# 划分训练集和测试集\n",
    "train,test = df.randomSplit([0.7,0.3])"
   ]
  },
  {
   "cell_type": "code",
   "execution_count": 6,
   "metadata": {},
   "outputs": [
    {
     "name": "stdout",
     "output_type": "stream",
     "text": [
      "aggregationDepth: suggested depth for treeAggregate (>= 2). (default: 2)\n",
      "elasticNetParam: the ElasticNet mixing parameter, in range [0, 1]. For alpha = 0, the penalty is an L2 penalty. For alpha = 1, it is an L1 penalty. (default: 0.0, current: 0.8)\n",
      "family: The name of family which is a description of the label distribution to be used in the model. Supported options: auto, binomial, multinomial (default: auto)\n",
      "featuresCol: features column name. (default: features, current: indexedFeatures)\n",
      "fitIntercept: whether to fit an intercept term. (default: True)\n",
      "labelCol: label column name. (default: label, current: indexed)\n",
      "lowerBoundsOnCoefficients: The lower bounds on coefficients if fitting under bound constrained optimization. The bound matrix must be compatible with the shape (1, number of features) for binomial regression, or (number of classes, number of features) for multinomial regression. (undefined)\n",
      "lowerBoundsOnIntercepts: The lower bounds on intercepts if fitting under bound constrained optimization. The bounds vector size must beequal with 1 for binomial regression, or the number oflasses for multinomial regression. (undefined)\n",
      "maxBlockSizeInMB: maximum memory in MB for stacking input data into blocks. Data is stacked within partitions. If more than remaining data size in a partition then it is adjusted to the data size. Default 0.0 represents choosing optimal value, depends on specific algorithm. Must be >= 0. (default: 0.0)\n",
      "maxIter: max number of iterations (>= 0). (default: 100, current: 100)\n",
      "predictionCol: prediction column name. (default: prediction)\n",
      "probabilityCol: Column name for predicted class conditional probabilities. Note: Not all models output well-calibrated probability estimates! These probabilities should be treated as confidences, not precise probabilities. (default: probability)\n",
      "rawPredictionCol: raw prediction (a.k.a. confidence) column name. (default: rawPrediction)\n",
      "regParam: regularization parameter (>= 0). (default: 0.0)\n",
      "standardization: whether to standardize the training features before fitting the model. (default: True)\n",
      "threshold: Threshold in binary classification prediction, in range [0, 1]. If threshold and thresholds are both set, they must match.e.g. if threshold is p, then thresholds must be equal to [1-p, p]. (default: 0.5)\n",
      "thresholds: Thresholds in multi-class classification to adjust the probability of predicting each class. Array must have length equal to the number of classes, with values > 0, excepting that at most one value may be 0. The class with largest value p/t is predicted, where p is the original probability of that class and t is the class's threshold. (undefined)\n",
      "tol: the convergence tolerance for iterative algorithms (>= 0). (default: 1e-06)\n",
      "upperBoundsOnCoefficients: The upper bounds on coefficients if fitting under bound constrained optimization. The bound matrix must be compatible with the shape (1, number of features) for binomial regression, or (number of classes, number of features) for multinomial regression. (undefined)\n",
      "upperBoundsOnIntercepts: The upper bounds on intercepts if fitting under bound constrained optimization. The bound vector size must be equal with 1 for binomial regression, or the number of classes for multinomial regression. (undefined)\n",
      "weightCol: weight column name. If this is not set or empty, we treat all instance weights as 1.0. (undefined)\n"
     ]
    }
   ],
   "source": [
    "# 构建逻辑回归的分类器\n",
    "from pyspark.ml.classification import LogisticRegression\n",
    "\n",
    "logitModel = LogisticRegression(\n",
    "    featuresCol=\"indexedFeatures\",labelCol=\"indexed\",maxIter=100,elasticNetParam=0.8\n",
    ")\n",
    "print(logitModel.explainParams())"
   ]
  },
  {
   "cell_type": "code",
   "execution_count": 7,
   "metadata": {},
   "outputs": [],
   "source": [
    "# 创建pipeline\n",
    "from pyspark.ml import Pipeline\n",
    "logitPipeline = Pipeline(stages=[\n",
    "    labelIndexerModel,featureIndexerModel,logitModel,labelIndexToString\n",
    "])"
   ]
  },
  {
   "cell_type": "code",
   "execution_count": 8,
   "metadata": {},
   "outputs": [],
   "source": [
    "logitPipelineModel = logitPipeline.fit(train)\n",
    "pred_df = logitPipelineModel.transform(test)"
   ]
  },
  {
   "cell_type": "code",
   "execution_count": 17,
   "metadata": {},
   "outputs": [
    {
     "name": "stdout",
     "output_type": "stream",
     "text": [
      "Iris-setosa : [4.4,3.2,1.3,0.2] ---->prob: [1.0,7.436686310088662e-45,4.414624110684572e-64] Iris-setosa \n",
      "\n",
      "Iris-setosa : [4.6,3.1,1.5,0.2] ---->prob: [1.0,2.0600073588532342e-38,4.9671672987418535e-57] Iris-setosa \n",
      "\n",
      "Iris-setosa : [4.7,3.2,1.6,0.2] ---->prob: [1.0,8.057271119430964e-41,2.0008567191942337e-59] Iris-setosa \n",
      "\n",
      "Iris-setosa : [4.8,3.1,1.6,0.2] ---->prob: [1.0,1.3858864238980332e-36,4.07182743549451e-55] Iris-setosa \n",
      "\n",
      "Iris-setosa : [4.8,3.4,1.6,0.2] ---->prob: [1.0,7.653793536232767e-48,5.872036036896465e-67] Iris-setosa \n",
      "\n"
     ]
    }
   ],
   "source": [
    "preDF = pred_df.select(\"features\",\"label\",\"probability\",\"predLabel\").head(5) # 是一个action，以行的形式返回每一条记录;collect()可以返回所有\n",
    "\n",
    "for item in preDF:\n",
    "    print(\n",
    "        str(item[\"label\"]),\":\",str(item[\"features\"]),\"---->prob:\",str(item[\"probability\"]),str(item[\"predLabel\"]),\"\\n\"\n",
    "    )"
   ]
  },
  {
   "cell_type": "code",
   "execution_count": 19,
   "metadata": {},
   "outputs": [
    {
     "name": "stdout",
     "output_type": "stream",
     "text": [
      "+-----------------+-----------+-------+-----------------+--------------------+--------------------+----------+-----------+\n",
      "|         features|      label|indexed|  indexedFeatures|       rawPrediction|         probability|prediction|  predLabel|\n",
      "+-----------------+-----------+-------+-----------------+--------------------+--------------------+----------+-----------+\n",
      "|[4.4,3.2,1.3,0.2]|Iris-setosa|    0.0|[4.4,3.2,1.3,0.2]|[82.4968090279537...|[1.0,7.4366863100...|       0.0|Iris-setosa|\n",
      "+-----------------+-----------+-------+-----------------+--------------------+--------------------+----------+-----------+\n",
      "only showing top 1 row\n",
      "\n"
     ]
    }
   ],
   "source": [
    "pred_df.show(1)"
   ]
  },
  {
   "cell_type": "code",
   "execution_count": 20,
   "metadata": {},
   "outputs": [
    {
     "name": "stdout",
     "output_type": "stream",
     "text": [
      "0.9773492500765228\n"
     ]
    }
   ],
   "source": [
    "# 下面计算评价指标\n",
    "from pyspark.ml.evaluation import MulticlassClassificationEvaluator\n",
    "evaluator = MulticlassClassificationEvaluator(labelCol=\"indexed\",predictionCol=\"prediction\")\n",
    "lrAccuracy = evaluator.evaluate(pred_df)\n",
    "print(lrAccuracy)"
   ]
  }
 ],
 "metadata": {
  "kernelspec": {
   "display_name": "database",
   "language": "python",
   "name": "python3"
  },
  "language_info": {
   "codemirror_mode": {
    "name": "ipython",
    "version": 3
   },
   "file_extension": ".py",
   "mimetype": "text/x-python",
   "name": "python",
   "nbconvert_exporter": "python",
   "pygments_lexer": "ipython3",
   "version": "3.8.10"
  },
  "orig_nbformat": 4
 },
 "nbformat": 4,
 "nbformat_minor": 2
}
