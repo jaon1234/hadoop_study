{
 "cells": [
  {
   "cell_type": "code",
   "execution_count": 1,
   "metadata": {},
   "outputs": [],
   "source": [
    "# 导入pyspark\n",
    "from pyspark.sql import SparkSession\n",
    "\n",
    "# 连接到spark\n",
    "spark = SparkSession.builder \\\n",
    "        .appName(\"pysparkML\") \\\n",
    "        .master(\"local[4]\") \\\n",
    "        .getOrCreate()"
   ]
  },
  {
   "attachments": {},
   "cell_type": "markdown",
   "metadata": {},
   "source": [
    "# 使用rdd读取数据"
   ]
  },
  {
   "cell_type": "code",
   "execution_count": 2,
   "metadata": {},
   "outputs": [],
   "source": [
    "# 从文件系统中读取数据，并将其转化为DataFrame\n",
    "sc = spark.sparkContext\n",
    "rdd = sc.textFile(\"./resources/iris.txt\")"
   ]
  },
  {
   "cell_type": "code",
   "execution_count": 3,
   "metadata": {},
   "outputs": [
    {
     "data": {
      "text/plain": [
       "['5.1,3.5,1.4,0.2,Iris-setosa',\n",
       " '4.9,3.0,1.4,0.2,Iris-setosa',\n",
       " '4.7,3.2,1.3,0.2,Iris-setosa',\n",
       " '4.6,3.1,1.5,0.2,Iris-setosa',\n",
       " '5.0,3.6,1.4,0.2,Iris-setosa']"
      ]
     },
     "execution_count": 3,
     "metadata": {},
     "output_type": "execute_result"
    }
   ],
   "source": [
    "rdd.take(5)"
   ]
  },
  {
   "attachments": {},
   "cell_type": "markdown",
   "metadata": {},
   "source": [
    "# 将rdd转化成dataframe，其中，第一列为特征，第二列为label"
   ]
  },
  {
   "cell_type": "code",
   "execution_count": 4,
   "metadata": {},
   "outputs": [
    {
     "name": "stdout",
     "output_type": "stream",
     "text": [
      "root\n",
      " |-- features: vector (nullable = true)\n",
      " |-- label: string (nullable = true)\n",
      "\n",
      "+-----------------+-----------+\n",
      "|         features|      label|\n",
      "+-----------------+-----------+\n",
      "|[5.1,3.5,1.4,0.2]|Iris-setosa|\n",
      "|[4.9,3.0,1.4,0.2]|Iris-setosa|\n",
      "|[4.7,3.2,1.3,0.2]|Iris-setosa|\n",
      "|[4.6,3.1,1.5,0.2]|Iris-setosa|\n",
      "|[5.0,3.6,1.4,0.2]|Iris-setosa|\n",
      "+-----------------+-----------+\n",
      "only showing top 5 rows\n",
      "\n"
     ]
    }
   ],
   "source": [
    "# 下面基于spark提供的row对象，构造dataframe\n",
    "# dataframe的一行表示一个实例，第一列是feature，是一个row对象，第二列是他的label\n",
    "from pyspark.sql import Row\n",
    "from pyspark.ml.linalg import Vectors # 将特征转换为向量\n",
    "iris = rdd.map(lambda line:line.strip().split(\",\")) \\\n",
    "       .map(lambda line:Row(features = Vectors.dense(float(line[0]),\n",
    "                                                                                                 float(line[1]),\n",
    "                                                                                                 float(line[2]),\n",
    "                                                                                                 float(line[3])\n",
    "                                                                                                        ),\n",
    "                                                                         label = line[4]))\n",
    "df = spark.createDataFrame(iris)\n",
    "df.printSchema()\n",
    "df.show(5)"
   ]
  },
  {
   "attachments": {},
   "cell_type": "markdown",
   "metadata": {},
   "source": [
    "# 定义标签的编码与解码"
   ]
  },
  {
   "cell_type": "code",
   "execution_count": 5,
   "metadata": {},
   "outputs": [],
   "source": [
    "# 下面开始进行标签的转化，将label进行编码\n",
    "from  pyspark.ml.feature import StringIndexer,IndexToString\n",
    "# 创建标签编码器\n",
    "# 输入的列名称，输出的列名称\n",
    "labelIndexer = StringIndexer(inputCol=\"label\",outputCol=\"indexedLabel\",stringOrderType=\"frequencyDesc\")\n",
    "labelIndexerModel = labelIndexer.fit(df)\n",
    "# 创建标签的解码器，将解码的对应关系传给解码器\n",
    "labelIndexToString = IndexToString(inputCol=\"prediction\",outputCol=\"predLabel\",labels=labelIndexerModel.labels)"
   ]
  },
  {
   "attachments": {},
   "cell_type": "markdown",
   "metadata": {},
   "source": [
    "# 特征向量化"
   ]
  },
  {
   "cell_type": "code",
   "execution_count": 6,
   "metadata": {},
   "outputs": [],
   "source": [
    "# 特征的转化\n",
    "# 这个问题是不需要在做的，因为已经处理成了向量了\n",
    "from pyspark.ml.feature import VectorIndexer # 用来将特征向量化\n",
    "featureToVector = VectorIndexer(inputCol=\"features\",outputCol=\"featureVect\").fit(df)"
   ]
  },
  {
   "attachments": {},
   "cell_type": "markdown",
   "metadata": {},
   "source": [
    "# 数据集的划分"
   ]
  },
  {
   "cell_type": "code",
   "execution_count": 7,
   "metadata": {},
   "outputs": [],
   "source": [
    "# 划分训练集和测试集\n",
    "train,test = df.randomSplit([0.7,0.3])"
   ]
  },
  {
   "attachments": {},
   "cell_type": "markdown",
   "metadata": {},
   "source": [
    "# 多分类-逻辑回归模型"
   ]
  },
  {
   "attachments": {},
   "cell_type": "markdown",
   "metadata": {},
   "source": [
    "- 多分类的时候，使用的逻辑回归实际上是softmax逻辑回归，针对一个实例，使用对数函数，计算其属于每一个类别的值，然后再使用softmax归一化"
   ]
  },
  {
   "cell_type": "code",
   "execution_count": 8,
   "metadata": {},
   "outputs": [
    {
     "name": "stdout",
     "output_type": "stream",
     "text": [
      "aggregationDepth: suggested depth for treeAggregate (>= 2). (default: 2)\n",
      "elasticNetParam: the ElasticNet mixing parameter, in range [0, 1]. For alpha = 0, the penalty is an L2 penalty. For alpha = 1, it is an L1 penalty. (default: 0.0, current: 0.8)\n",
      "family: The name of family which is a description of the label distribution to be used in the model. Supported options: auto, binomial, multinomial (default: auto)\n",
      "featuresCol: features column name. (default: features, current: features)\n",
      "fitIntercept: whether to fit an intercept term. (default: True)\n",
      "labelCol: label column name. (default: label, current: indexedLabel)\n",
      "lowerBoundsOnCoefficients: The lower bounds on coefficients if fitting under bound constrained optimization. The bound matrix must be compatible with the shape (1, number of features) for binomial regression, or (number of classes, number of features) for multinomial regression. (undefined)\n",
      "lowerBoundsOnIntercepts: The lower bounds on intercepts if fitting under bound constrained optimization. The bounds vector size must beequal with 1 for binomial regression, or the number oflasses for multinomial regression. (undefined)\n",
      "maxBlockSizeInMB: maximum memory in MB for stacking input data into blocks. Data is stacked within partitions. If more than remaining data size in a partition then it is adjusted to the data size. Default 0.0 represents choosing optimal value, depends on specific algorithm. Must be >= 0. (default: 0.0)\n",
      "maxIter: max number of iterations (>= 0). (default: 100, current: 100)\n",
      "predictionCol: prediction column name. (default: prediction)\n",
      "probabilityCol: Column name for predicted class conditional probabilities. Note: Not all models output well-calibrated probability estimates! These probabilities should be treated as confidences, not precise probabilities. (default: probability)\n",
      "rawPredictionCol: raw prediction (a.k.a. confidence) column name. (default: rawPrediction)\n",
      "regParam: regularization parameter (>= 0). (default: 0.0)\n",
      "standardization: whether to standardize the training features before fitting the model. (default: True)\n",
      "threshold: Threshold in binary classification prediction, in range [0, 1]. If threshold and thresholds are both set, they must match.e.g. if threshold is p, then thresholds must be equal to [1-p, p]. (default: 0.5)\n",
      "thresholds: Thresholds in multi-class classification to adjust the probability of predicting each class. Array must have length equal to the number of classes, with values > 0, excepting that at most one value may be 0. The class with largest value p/t is predicted, where p is the original probability of that class and t is the class's threshold. (undefined)\n",
      "tol: the convergence tolerance for iterative algorithms (>= 0). (default: 1e-06)\n",
      "upperBoundsOnCoefficients: The upper bounds on coefficients if fitting under bound constrained optimization. The bound matrix must be compatible with the shape (1, number of features) for binomial regression, or (number of classes, number of features) for multinomial regression. (undefined)\n",
      "upperBoundsOnIntercepts: The upper bounds on intercepts if fitting under bound constrained optimization. The bound vector size must be equal with 1 for binomial regression, or the number of classes for multinomial regression. (undefined)\n",
      "weightCol: weight column name. If this is not set or empty, we treat all instance weights as 1.0. (undefined)\n"
     ]
    }
   ],
   "source": [
    "# 构建逻辑回归的分类器\n",
    "from pyspark.ml.classification import LogisticRegression\n",
    "\n",
    "# treeAggregate：不会一次性将partition的运算结果拉倒driver，而是根据depth，在分区做完局部aggregation后再拉倒driver\n",
    "# elasticNetParam：回归同时应用l1和l2正则化，当其为0时表示只用l2，为1的时候只用l2\n",
    "# family：是二项分布还是多项分布，默认用auto\n",
    "# intercept term：表示截距项（一般，也叫偏置）\n",
    "logitModel = LogisticRegression(\n",
    "    featuresCol=\"features\",labelCol=\"indexedLabel\",maxIter=100,elasticNetParam=0.8\n",
    ")\n",
    "print(logitModel.explainParams())"
   ]
  },
  {
   "attachments": {},
   "cell_type": "markdown",
   "metadata": {},
   "source": [
    "# 构建机器学习的pipeline"
   ]
  },
  {
   "cell_type": "code",
   "execution_count": 9,
   "metadata": {},
   "outputs": [],
   "source": [
    "# 创建pipeline\n",
    "from pyspark.ml import Pipeline\n",
    "logitPipeline = Pipeline(stages=[\n",
    "    labelIndexerModel,logitModel,labelIndexToString\n",
    "])\n",
    "logitPipelineModel = logitPipeline.fit(train)"
   ]
  },
  {
   "attachments": {},
   "cell_type": "markdown",
   "metadata": {},
   "source": [
    "# 在测试集上验证相关指标"
   ]
  },
  {
   "cell_type": "code",
   "execution_count": 10,
   "metadata": {},
   "outputs": [],
   "source": [
    "# 获取预测结果的df\n",
    "pred_df = logitPipelineModel.transform(test)"
   ]
  },
  {
   "cell_type": "code",
   "execution_count": 11,
   "metadata": {},
   "outputs": [
    {
     "name": "stdout",
     "output_type": "stream",
     "text": [
      "Iris-setosa : [4.4,3.0,1.3,0.2] ---->prob: [1.0,0.0,0.0] Iris-setosa \n",
      "\n",
      "Iris-setosa : [4.6,3.4,1.4,0.3] ---->prob: [1.0,0.0,0.0] Iris-setosa \n",
      "\n",
      "Iris-setosa : [4.6,3.6,1.0,0.2] ---->prob: [1.0,0.0,0.0] Iris-setosa \n",
      "\n",
      "Iris-versicolor : [4.9,2.4,3.3,1.0] ---->prob: [0.0,1.0,0.0] Iris-versicolor \n",
      "\n",
      "Iris-setosa : [4.9,3.1,1.5,0.1] ---->prob: [1.0,0.0,0.0] Iris-setosa \n",
      "\n"
     ]
    }
   ],
   "source": [
    "preDF = pred_df.select(\"features\",\"label\",\"probability\",\"predLabel\").head(5) # 是一个action，以行的形式返回每一条记录;collect()可以返回所有\n",
    "\n",
    "for item in preDF:\n",
    "    print(\n",
    "        str(item[\"label\"]),\":\",str(item[\"features\"]),\"---->prob:\",str(item[\"probability\"]),str(item[\"predLabel\"]),\"\\n\"\n",
    "    )"
   ]
  },
  {
   "cell_type": "code",
   "execution_count": 12,
   "metadata": {},
   "outputs": [
    {
     "name": "stdout",
     "output_type": "stream",
     "text": [
      "0.9631818181818183\n"
     ]
    }
   ],
   "source": [
    "# 下面计算评价指标\n",
    "from pyspark.ml.evaluation import MulticlassClassificationEvaluator\n",
    "evaluator = MulticlassClassificationEvaluator(labelCol=\"indexedLabel\",predictionCol=\"prediction\")\n",
    "lrAccuracy = evaluator.evaluate(pred_df)\n",
    "print(lrAccuracy)"
   ]
  },
  {
   "attachments": {},
   "cell_type": "markdown",
   "metadata": {},
   "source": [
    "# 模型的进一步分析，查看模型的一些参数"
   ]
  },
  {
   "cell_type": "code",
   "execution_count": 13,
   "metadata": {},
   "outputs": [
    {
     "name": "stdout",
     "output_type": "stream",
     "text": [
      "Coefficients: \n",
      " DenseMatrix([[-1661.8537329 ,  1642.71499567, -1120.25780823, -2221.2591937 ],\n",
      "             [  905.41805344,   -23.05624158,  -463.92616847, -1699.26454619],\n",
      "             [  756.43567946, -1619.65875409,  1584.1839767 ,  3920.52373989]])\n",
      "intercept: [11204.906801668069,1521.4484613916343,-12726.355263059704]\n",
      " numClasses: 3\n",
      " numFeatures: 4\n"
     ]
    }
   ],
   "source": [
    "# 获取模型相关的系数\n",
    "lrModel = logitPipelineModel.stages[1]\n",
    "print(\"Coefficients: \\n \" + str(lrModel.coefficientMatrix) + \\\n",
    "\"\\nintercept: \" + str(lrModel.interceptVector) + \\\n",
    "\"\\n numClasses: \" + str(lrModel.numClasses) + \\\n",
    "\"\\n numFeatures: \" + str(lrModel.numFeatures))"
   ]
  }
 ],
 "metadata": {
  "kernelspec": {
   "display_name": "database",
   "language": "python",
   "name": "python3"
  },
  "language_info": {
   "codemirror_mode": {
    "name": "ipython",
    "version": 3
   },
   "file_extension": ".py",
   "mimetype": "text/x-python",
   "name": "python",
   "nbconvert_exporter": "python",
   "pygments_lexer": "ipython3",
   "version": "3.8.10"
  },
  "orig_nbformat": 4
 },
 "nbformat": 4,
 "nbformat_minor": 2
}
