{
 "cells": [
  {
   "cell_type": "code",
   "execution_count": 32,
   "metadata": {},
   "outputs": [],
   "source": [
    "from pyspark.sql import SparkSession\n",
    "from pyspark.ml.feature import StringIndexer,IndexToString,VectorIndexer\n",
    "from pyspark.ml.linalg import Vectors\n",
    "from pyspark.sql import Row\n",
    "from pyspark.ml.classification import DecisionTreeClassifier\n",
    "from pyspark.ml.pipeline import Pipeline\n"
   ]
  },
  {
   "cell_type": "code",
   "execution_count": 33,
   "metadata": {},
   "outputs": [
    {
     "name": "stdout",
     "output_type": "stream",
     "text": [
      "['5.1,3.5,1.4,0.2,Iris-setosa', '4.9,3.0,1.4,0.2,Iris-setosa']\n"
     ]
    }
   ],
   "source": [
    "spark = SparkSession.builder \\\n",
    "        .appName(\"decision tree\") \\\n",
    "        .master(\"local[4]\") \\\n",
    "        .getOrCreate()\n",
    "\n",
    "# 获取rdd\n",
    "sc = spark.sparkContext\n",
    "rdd = sc.textFile(\"./resources/iris.txt\")\n",
    "print(rdd.take(2))"
   ]
  },
  {
   "cell_type": "code",
   "execution_count": 34,
   "metadata": {},
   "outputs": [],
   "source": [
    "rdd = rdd.map(lambda line:line.strip().split(\",\")) \\\n",
    "        .map(lambda line:Row(features=Vectors.dense(float(line[0]),\n",
    "                                                    float(line[1]),\n",
    "                                                    float(line[2]),\n",
    "                                                    float(line[3])),labels=line[4]))\n",
    "df = spark.createDataFrame(rdd)"
   ]
  },
  {
   "cell_type": "code",
   "execution_count": 35,
   "metadata": {},
   "outputs": [
    {
     "name": "stdout",
     "output_type": "stream",
     "text": [
      "+-----------------+-----------+\n",
      "|         features|     labels|\n",
      "+-----------------+-----------+\n",
      "|[5.1,3.5,1.4,0.2]|Iris-setosa|\n",
      "|[4.9,3.0,1.4,0.2]|Iris-setosa|\n",
      "+-----------------+-----------+\n",
      "only showing top 2 rows\n",
      "\n"
     ]
    }
   ],
   "source": [
    "df.show(2)"
   ]
  },
  {
   "cell_type": "code",
   "execution_count": 43,
   "metadata": {},
   "outputs": [],
   "source": [
    "# 标签编码器\n",
    "labelIndexModel = StringIndexer(inputCol=\"labels\",outputCol=\"indexedLabel\").fit(df)\n",
    "# 标签解码器\n",
    "labelConverter = IndexToString(inputCol=\"prediction\",outputCol=\"predLabel\",labels=labelIndexModel.labels)\n",
    "# 特征向量化\n",
    "featureVector= VectorIndexer(inputCol=\"features\",outputCol=\"featuresVec\")"
   ]
  },
  {
   "cell_type": "code",
   "execution_count": 37,
   "metadata": {},
   "outputs": [],
   "source": [
    "# 数据集划分\n",
    "trainData,testData = df.randomSplit([0.7,0.3])"
   ]
  },
  {
   "cell_type": "code",
   "execution_count": 38,
   "metadata": {},
   "outputs": [
    {
     "data": {
      "text/plain": [
       "112"
      ]
     },
     "execution_count": 38,
     "metadata": {},
     "output_type": "execute_result"
    }
   ],
   "source": [
    "trainData.count()"
   ]
  },
  {
   "cell_type": "code",
   "execution_count": 51,
   "metadata": {},
   "outputs": [
    {
     "name": "stdout",
     "output_type": "stream",
     "text": [
      "cacheNodeIds: If false, the algorithm will pass trees to executors to match instances with nodes. If true, the algorithm will cache node IDs for each instance. Caching can speed up training of deeper trees. Users can set how often should the cache be checkpointed or disable it by setting checkpointInterval. (default: False)\n",
      "checkpointInterval: set checkpoint interval (>= 1) or disable checkpoint (-1). E.g. 10 means that the cache will get checkpointed every 10 iterations. Note: this setting will be ignored if the checkpoint directory is not set in the SparkContext. (default: 10)\n",
      "featuresCol: features column name. (default: features, current: featuresVec)\n",
      "impurity: Criterion used for information gain calculation (case-insensitive). Supported options: entropy, gini (default: gini, current: gini)\n",
      "labelCol: label column name. (default: label, current: indexedLabel)\n",
      "leafCol: Leaf indices column name. Predicted leaf index of each instance in each tree by preorder. (default: )\n",
      "maxBins: Max number of bins for discretizing continuous features.  Must be >=2 and >= number of categories for any categorical feature. (default: 32)\n",
      "maxDepth: Maximum depth of the tree. (>= 0) E.g., depth 0 means 1 leaf node; depth 1 means 1 internal node + 2 leaf nodes. Must be in range [0, 30]. (default: 5, current: 5)\n",
      "maxMemoryInMB: Maximum memory in MB allocated to histogram aggregation. If too small, then 1 node will be split per iteration, and its aggregates may exceed this size. (default: 256)\n",
      "minInfoGain: Minimum information gain for a split to be considered at a tree node. (default: 0.0)\n",
      "minInstancesPerNode: Minimum number of instances each child must have after split. If a split causes the left or right child to have fewer than minInstancesPerNode, the split will be discarded as invalid. Should be >= 1. (default: 1)\n",
      "minWeightFractionPerNode: Minimum fraction of the weighted sample count that each child must have after split. If a split causes the fraction of the total weight in the left or right child to be less than minWeightFractionPerNode, the split will be discarded as invalid. Should be in interval [0.0, 0.5). (default: 0.0)\n",
      "predictionCol: prediction column name. (default: prediction, current: prediction)\n",
      "probabilityCol: Column name for predicted class conditional probabilities. Note: Not all models output well-calibrated probability estimates! These probabilities should be treated as confidences, not precise probabilities. (default: probability, current: probability)\n",
      "rawPredictionCol: raw prediction (a.k.a. confidence) column name. (default: rawPrediction)\n",
      "seed: random seed. (default: -345658233780598552)\n",
      "thresholds: Thresholds in multi-class classification to adjust the probability of predicting each class. Array must have length equal to the number of classes, with values > 0, excepting that at most one value may be 0. The class with largest value p/t is predicted, where p is the original probability of that class and t is the class's threshold. (undefined)\n",
      "weightCol: weight column name. If this is not set or empty, we treat all instance weights as 1.0. (undefined)\n"
     ]
    }
   ],
   "source": [
    "decisionTreeCls = DecisionTreeClassifier(\n",
    "    labelCol=\"indexedLabel\",\n",
    "    featuresCol=\"featuresVec\",\n",
    "    predictionCol=\"prediction\",\n",
    "    probabilityCol=\"probability\",\n",
    "    maxDepth=5,\n",
    "    impurity=\"gini\"\n",
    ")\n",
    "print(decisionTreeCls.explainParams())"
   ]
  },
  {
   "cell_type": "code",
   "execution_count": 54,
   "metadata": {},
   "outputs": [],
   "source": [
    "# 构建机器学习的管道\n",
    "pipeline = Pipeline(stages=[\n",
    "    labelIndexModel,featureVector,decisionTreeCls,labelConverter\n",
    "])\n",
    "\n",
    "# 模型训练\n",
    "pipelineModel = pipeline.fit(trainData)\n",
    "# 模型预测\n",
    "pred_df = pipelineModel.transform(testData)"
   ]
  },
  {
   "cell_type": "code",
   "execution_count": 55,
   "metadata": {},
   "outputs": [
    {
     "name": "stdout",
     "output_type": "stream",
     "text": [
      "Iris-setosa : [4.3,3.0,1.1,0.1] ---->prob: [1.0,0.0,0.0] Iris-setosa\n",
      "Iris-setosa : [4.6,3.2,1.4,0.2] ---->prob: [1.0,0.0,0.0] Iris-setosa\n",
      "Iris-setosa : [4.6,3.6,1.0,0.2] ---->prob: [1.0,0.0,0.0] Iris-setosa\n",
      "Iris-setosa : [4.7,3.2,1.3,0.2] ---->prob: [1.0,0.0,0.0] Iris-setosa\n",
      "Iris-setosa : [4.8,3.1,1.6,0.2] ---->prob: [1.0,0.0,0.0] Iris-setosa\n"
     ]
    }
   ],
   "source": [
    "# 查看\n",
    "for item in pred_df.select(\"features\",\"labels\",\"probability\",\"predLabel\").head(5):\n",
    "    print(\n",
    "        str(item[\"labels\"]),\":\",str(item[\"features\"]),\"---->prob:\",str(item[\"probability\"]),str(item[\"predLabel\"])\n",
    "    )"
   ]
  },
  {
   "cell_type": "code",
   "execution_count": 56,
   "metadata": {},
   "outputs": [
    {
     "name": "stdout",
     "output_type": "stream",
     "text": [
      "0.9735839598997494\n"
     ]
    }
   ],
   "source": [
    "from pyspark.ml.evaluation import MulticlassClassificationEvaluator\n",
    "evaluator = MulticlassClassificationEvaluator(predictionCol=\"prediction\",labelCol=\"indexedLabel\")\n",
    "auc = evaluator.evaluate(pred_df)\n",
    "print(auc)"
   ]
  },
  {
   "cell_type": "code",
   "execution_count": 57,
   "metadata": {},
   "outputs": [
    {
     "data": {
      "text/plain": [
       "SparseVector(4, {0: 0.0247, 1: 0.0176, 2: 0.931, 3: 0.0267})"
      ]
     },
     "execution_count": 57,
     "metadata": {},
     "output_type": "execute_result"
    }
   ],
   "source": [
    "# 获取重要性指标\n",
    "dtreeModel = pipelineModel.stages[2]\n",
    "dtreeModel.featureImportances"
   ]
  },
  {
   "cell_type": "code",
   "execution_count": 58,
   "metadata": {},
   "outputs": [
    {
     "name": "stdout",
     "output_type": "stream",
     "text": [
      "cacheNodeIds: If false, the algorithm will pass trees to executors to match instances with nodes. If true, the algorithm will cache node IDs for each instance. Caching can speed up training of deeper trees. Users can set how often should the cache be checkpointed or disable it by setting checkpointInterval. (default: False)\n",
      "checkpointInterval: set checkpoint interval (>= 1) or disable checkpoint (-1). E.g. 10 means that the cache will get checkpointed every 10 iterations. Note: this setting will be ignored if the checkpoint directory is not set in the SparkContext. (default: 10)\n",
      "featuresCol: features column name. (default: features, current: featuresVec)\n",
      "impurity: Criterion used for information gain calculation (case-insensitive). Supported options: entropy, gini (default: gini, current: entropy)\n",
      "labelCol: label column name. (default: label, current: indexedLabel)\n",
      "leafCol: Leaf indices column name. Predicted leaf index of each instance in each tree by preorder. (default: )\n",
      "maxBins: Max number of bins for discretizing continuous features.  Must be >=2 and >= number of categories for any categorical feature. (default: 32)\n",
      "maxDepth: Maximum depth of the tree. (>= 0) E.g., depth 0 means 1 leaf node; depth 1 means 1 internal node + 2 leaf nodes. Must be in range [0, 30]. (default: 5, current: 5)\n",
      "maxMemoryInMB: Maximum memory in MB allocated to histogram aggregation. If too small, then 1 node will be split per iteration, and its aggregates may exceed this size. (default: 256)\n",
      "minInfoGain: Minimum information gain for a split to be considered at a tree node. (default: 0.0)\n",
      "minInstancesPerNode: Minimum number of instances each child must have after split. If a split causes the left or right child to have fewer than minInstancesPerNode, the split will be discarded as invalid. Should be >= 1. (default: 1)\n",
      "minWeightFractionPerNode: Minimum fraction of the weighted sample count that each child must have after split. If a split causes the fraction of the total weight in the left or right child to be less than minWeightFractionPerNode, the split will be discarded as invalid. Should be in interval [0.0, 0.5). (default: 0.0)\n",
      "predictionCol: prediction column name. (default: prediction, current: prediction)\n",
      "probabilityCol: Column name for predicted class conditional probabilities. Note: Not all models output well-calibrated probability estimates! These probabilities should be treated as confidences, not precise probabilities. (default: probability, current: probability)\n",
      "rawPredictionCol: raw prediction (a.k.a. confidence) column name. (default: rawPrediction)\n",
      "seed: random seed. (default: -345658233780598552)\n",
      "thresholds: Thresholds in multi-class classification to adjust the probability of predicting each class. Array must have length equal to the number of classes, with values > 0, excepting that at most one value may be 0. The class with largest value p/t is predicted, where p is the original probability of that class and t is the class's threshold. (undefined)\n",
      "weightCol: weight column name. If this is not set or empty, we treat all instance weights as 1.0. (undefined)\n",
      "Iris-setosa : [4.3,3.0,1.1,0.1] ---->prob: [1.0,0.0,0.0] Iris-setosa\n",
      "Iris-setosa : [4.6,3.2,1.4,0.2] ---->prob: [1.0,0.0,0.0] Iris-setosa\n",
      "Iris-setosa : [4.6,3.6,1.0,0.2] ---->prob: [1.0,0.0,0.0] Iris-setosa\n",
      "Iris-setosa : [4.7,3.2,1.3,0.2] ---->prob: [1.0,0.0,0.0] Iris-setosa\n",
      "Iris-setosa : [4.8,3.1,1.6,0.2] ---->prob: [1.0,0.0,0.0] Iris-setosa\n",
      "0.9735839598997494\n"
     ]
    },
    {
     "data": {
      "text/plain": [
       "SparseVector(4, {0: 0.0186, 1: 0.0136, 2: 0.9298, 3: 0.0381})"
      ]
     },
     "execution_count": 58,
     "metadata": {},
     "output_type": "execute_result"
    }
   ],
   "source": [
    "## 下面尝试在entropy模式下的指标信息\n",
    "decisionTreeCls = DecisionTreeClassifier(\n",
    "    labelCol=\"indexedLabel\",\n",
    "    featuresCol=\"featuresVec\",\n",
    "    predictionCol=\"prediction\",\n",
    "    probabilityCol=\"probability\",\n",
    "    maxDepth=5,\n",
    "    impurity=\"entropy\"\n",
    ")\n",
    "print(decisionTreeCls.explainParams())\n",
    "\n",
    "# 构建机器学习的管道\n",
    "pipeline = Pipeline(stages=[\n",
    "    labelIndexModel,featureVector,decisionTreeCls,labelConverter\n",
    "])\n",
    "\n",
    "# 模型训练\n",
    "pipelineModel = pipeline.fit(trainData)\n",
    "# 模型预测\n",
    "pred_df = pipelineModel.transform(testData)\n",
    "\n",
    "# 查看\n",
    "for item in pred_df.select(\"features\",\"labels\",\"probability\",\"predLabel\").head(5):\n",
    "    print(\n",
    "        str(item[\"labels\"]),\":\",str(item[\"features\"]),\"---->prob:\",str(item[\"probability\"]),str(item[\"predLabel\"])\n",
    "    )\n",
    "from pyspark.ml.evaluation import MulticlassClassificationEvaluator\n",
    "evaluator = MulticlassClassificationEvaluator(predictionCol=\"prediction\",labelCol=\"indexedLabel\")\n",
    "auc = evaluator.evaluate(pred_df)\n",
    "print(auc)\n",
    "# 获取重要性指标\n",
    "dtreeModel = pipelineModel.stages[2]\n",
    "dtreeModel.featureImportances"
   ]
  }
 ],
 "metadata": {
  "kernelspec": {
   "display_name": "database",
   "language": "python",
   "name": "python3"
  },
  "language_info": {
   "codemirror_mode": {
    "name": "ipython",
    "version": 3
   },
   "file_extension": ".py",
   "mimetype": "text/x-python",
   "name": "python",
   "nbconvert_exporter": "python",
   "pygments_lexer": "ipython3",
   "version": "3.8.10"
  },
  "orig_nbformat": 4
 },
 "nbformat": 4,
 "nbformat_minor": 2
}
